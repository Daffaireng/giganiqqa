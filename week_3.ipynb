{
  "nbformat": 4,
  "nbformat_minor": 0,
  "metadata": {
    "colab": {
      "provenance": [],
      "authorship_tag": "ABX9TyMJAbhWn5SVJzlyV1x+1+cN",
      "include_colab_link": true
    },
    "kernelspec": {
      "name": "python3",
      "display_name": "Python 3"
    },
    "language_info": {
      "name": "python"
    }
  },
  "cells": [
    {
      "cell_type": "markdown",
      "metadata": {
        "id": "view-in-github",
        "colab_type": "text"
      },
      "source": [
        "<a href=\"https://colab.research.google.com/github/Daffaireng/giganiqqa/blob/main/week_3.ipynb\" target=\"_parent\"><img src=\"https://colab.research.google.com/assets/colab-badge.svg\" alt=\"Open In Colab\"/></a>"
      ]
    },
    {
      "cell_type": "code",
      "execution_count": null,
      "metadata": {
        "colab": {
          "base_uri": "https://localhost:8080/"
        },
        "id": "dEeEJg2g_-I5",
        "outputId": "9d84f1e8-d40a-43de-9a09-45e14159a9e8"
      },
      "outputs": [
        {
          "output_type": "stream",
          "name": "stdout",
          "text": [
            "daffa is boundless\n"
          ]
        }
      ],
      "source": [
        "print('daffa is boundless')"
      ]
    },
    {
      "cell_type": "code",
      "source": [
        "print('yahaha hayuuk', 'palpalepale', sep= '.  ')"
      ],
      "metadata": {
        "colab": {
          "base_uri": "https://localhost:8080/"
        },
        "id": "Wv15HMHhAOp8",
        "outputId": "6cd9e31b-58f8-42a9-a8e7-24a132fe9f5d"
      },
      "execution_count": null,
      "outputs": [
        {
          "output_type": "stream",
          "name": "stdout",
          "text": [
            "yahaha hayuuk.  palpalepale\n"
          ]
        }
      ]
    },
    {
      "cell_type": "code",
      "source": [
        "print('10.5')\n",
        "print('teknologi informasi')"
      ],
      "metadata": {
        "colab": {
          "base_uri": "https://localhost:8080/"
        },
        "id": "8SxthA7TBVO7",
        "outputId": "ae810681-67d0-49dc-baf4-092c8d293d6b"
      },
      "execution_count": null,
      "outputs": [
        {
          "output_type": "stream",
          "name": "stdout",
          "text": [
            "10.5\n",
            "teknologi informasi\n"
          ]
        }
      ]
    },
    {
      "cell_type": "code",
      "source": [
        "print('number', '-20.6', sep= ':  ')\n",
        "print('name  ', 'teknologi cosmic', sep= ':  ')"
      ],
      "metadata": {
        "colab": {
          "base_uri": "https://localhost:8080/"
        },
        "id": "bdpKzaJ1CjmU",
        "outputId": "57849e38-5847-4aee-8efe-59de9b9c4c68"
      },
      "execution_count": null,
      "outputs": [
        {
          "output_type": "stream",
          "name": "stdout",
          "text": [
            "number:  -20.6\n",
            "name  :  teknologi cosmic\n"
          ]
        }
      ]
    },
    {
      "cell_type": "code",
      "source": [
        "print('Teknik Kebidanan ' + 'Universitas Tidar')"
      ],
      "metadata": {
        "colab": {
          "base_uri": "https://localhost:8080/"
        },
        "id": "DS4xkxWAEEDK",
        "outputId": "db601614-d96e-43ae-a4dc-dcebba68bba5"
      },
      "execution_count": null,
      "outputs": [
        {
          "output_type": "stream",
          "name": "stdout",
          "text": [
            "Teknik Kebidanan Universitas Tidar\n"
          ]
        }
      ]
    },
    {
      "cell_type": "markdown",
      "source": [],
      "metadata": {
        "id": "Y6Yzv5hiJnby"
      }
    },
    {
      "cell_type": "code",
      "source": [
        "x= 5\n",
        "y= 10\n",
        "print('The value of x is {0} and y is {1}'.format(x,y))"
      ],
      "metadata": {
        "colab": {
          "base_uri": "https://localhost:8080/"
        },
        "id": "-qZW2zAOJAoO",
        "outputId": "2c65a032-27ef-4e9f-b0ba-323c889f9129"
      },
      "execution_count": null,
      "outputs": [
        {
          "output_type": "stream",
          "name": "stdout",
          "text": [
            "The value of x is 5 and y is 10\n"
          ]
        }
      ]
    },
    {
      "cell_type": "code",
      "source": [
        "num = input('18')\n",
        "print('18', num)\n",
        "print('Data type of num:', type(num))"
      ],
      "metadata": {
        "colab": {
          "base_uri": "https://localhost:8080/"
        },
        "id": "jPDMOR1gJhvB",
        "outputId": "a90e81c1-5b0b-4b7a-a27a-f776a584aa78"
      },
      "execution_count": null,
      "outputs": [
        {
          "output_type": "stream",
          "name": "stdout",
          "text": [
            "1820\n",
            "18 20\n",
            "Data type of num: <class 'str'>\n"
          ]
        }
      ]
    },
    {
      "cell_type": "code",
      "source": [
        "!pip install wget"
      ],
      "metadata": {
        "colab": {
          "base_uri": "https://localhost:8080/"
        },
        "id": "vJAfYsGRJ9E2",
        "outputId": "e253c180-6248-416b-c156-8809aa9653e0"
      },
      "execution_count": null,
      "outputs": [
        {
          "output_type": "stream",
          "name": "stdout",
          "text": [
            "Collecting wget\n",
            "  Downloading wget-3.2.zip (10 kB)\n",
            "  Preparing metadata (setup.py) ... \u001b[?25l\u001b[?25hdone\n",
            "Building wheels for collected packages: wget\n",
            "  Building wheel for wget (setup.py) ... \u001b[?25l\u001b[?25hdone\n",
            "  Created wheel for wget: filename=wget-3.2-py3-none-any.whl size=9656 sha256=1f75ab61e2d0ba80d5a88372ee5206390c2dbc9b33f2ddf37e397fb4236b4bda\n",
            "  Stored in directory: /root/.cache/pip/wheels/8b/f1/7f/5c94f0a7a505ca1c81cd1d9208ae2064675d97582078e6c769\n",
            "Successfully built wget\n",
            "Installing collected packages: wget\n",
            "Successfully installed wget-3.2\n"
          ]
        }
      ]
    },
    {
      "cell_type": "code",
      "source": [
        "!mkdir -p /resourced/data\n",
        "!wget -O /resourced/data/Example1.txt https://s3-api.us-geo.objectstorage.softlayer.net/cf-courses-data/CognitiveClass/PY0101EN/labs/example1.txt"
      ],
      "metadata": {
        "colab": {
          "base_uri": "https://localhost:8080/"
        },
        "id": "OVe-yMLKLabU",
        "outputId": "13fcdbb9-6134-4bfb-d00a-9c7d1debfc83"
      },
      "execution_count": null,
      "outputs": [
        {
          "output_type": "stream",
          "name": "stdout",
          "text": [
            "--2024-09-06 07:13:26--  https://s3-api.us-geo.objectstorage.softlayer.net/cf-courses-data/CognitiveClass/PY0101EN/labs/example1.txt\n",
            "Resolving s3-api.us-geo.objectstorage.softlayer.net (s3-api.us-geo.objectstorage.softlayer.net)... 67.228.254.196\n",
            "Connecting to s3-api.us-geo.objectstorage.softlayer.net (s3-api.us-geo.objectstorage.softlayer.net)|67.228.254.196|:443... connected.\n",
            "HTTP request sent, awaiting response... 200 OK\n",
            "Length: 45 [text/plain]\n",
            "Saving to: ‘/resourced/data/Example1.txt’\n",
            "\n",
            "\r          /resource   0%[                    ]       0  --.-KB/s               \r/resourced/data/Exa 100%[===================>]      45  --.-KB/s    in 0s      \n",
            "\n",
            "2024-09-06 07:13:27 (16.0 MB/s) - ‘/resourced/data/Example1.txt’ saved [45/45]\n",
            "\n"
          ]
        }
      ]
    },
    {
      "cell_type": "code",
      "source": [
        "example1= \"/resourced/data/Example1.txt\"\n",
        "file1 = open(example1, \"r\")"
      ],
      "metadata": {
        "id": "bqsg4ZgFOC83"
      },
      "execution_count": null,
      "outputs": []
    },
    {
      "cell_type": "code",
      "source": [
        "file1.name"
      ],
      "metadata": {
        "colab": {
          "base_uri": "https://localhost:8080/",
          "height": 146
        },
        "id": "vkruyOK4OepZ",
        "outputId": "35fe23f4-2920-4ad4-ea2c-8640df23bf58"
      },
      "execution_count": 2,
      "outputs": [
        {
          "output_type": "error",
          "ename": "NameError",
          "evalue": "name 'file1' is not defined",
          "traceback": [
            "\u001b[0;31m---------------------------------------------------------------------------\u001b[0m",
            "\u001b[0;31mNameError\u001b[0m                                 Traceback (most recent call last)",
            "\u001b[0;32m<ipython-input-2-ed1def4c7d61>\u001b[0m in \u001b[0;36m<cell line: 1>\u001b[0;34m()\u001b[0m\n\u001b[0;32m----> 1\u001b[0;31m \u001b[0mfile1\u001b[0m\u001b[0;34m.\u001b[0m\u001b[0mname\u001b[0m\u001b[0;34m\u001b[0m\u001b[0;34m\u001b[0m\u001b[0m\n\u001b[0m",
            "\u001b[0;31mNameError\u001b[0m: name 'file1' is not defined"
          ]
        }
      ]
    },
    {
      "cell_type": "code",
      "source": [
        "file1.mode"
      ],
      "metadata": {
        "colab": {
          "base_uri": "https://localhost:8080/",
          "height": 35
        },
        "id": "x2r9PFP-PVgP",
        "outputId": "26e3f13b-00ff-4b78-f0d5-4f99a3d76566"
      },
      "execution_count": null,
      "outputs": [
        {
          "output_type": "execute_result",
          "data": {
            "text/plain": [
              "'r'"
            ],
            "application/vnd.google.colaboratory.intrinsic+json": {
              "type": "string"
            }
          },
          "metadata": {},
          "execution_count": 33
        }
      ]
    },
    {
      "cell_type": "code",
      "source": [
        "FileContent = file1.read()\n",
        "FileContent"
      ],
      "metadata": {
        "colab": {
          "base_uri": "https://localhost:8080/",
          "height": 35
        },
        "id": "1ThR8xo1PXyW",
        "outputId": "507eae84-3063-4825-d455-217c4534a584"
      },
      "execution_count": null,
      "outputs": [
        {
          "output_type": "execute_result",
          "data": {
            "text/plain": [
              "'This is line 1 \\nThis is line 2\\nThis is line 3'"
            ],
            "application/vnd.google.colaboratory.intrinsic+json": {
              "type": "string"
            }
          },
          "metadata": {},
          "execution_count": 34
        }
      ]
    },
    {
      "cell_type": "code",
      "source": [
        "print(FileContent)"
      ],
      "metadata": {
        "colab": {
          "base_uri": "https://localhost:8080/"
        },
        "id": "NF4aDlgqQ65t",
        "outputId": "aad007fa-5fa9-4bd6-80b3-47c660b9dc6b"
      },
      "execution_count": null,
      "outputs": [
        {
          "output_type": "stream",
          "name": "stdout",
          "text": [
            "This is line 1 \n",
            "This is line 2\n",
            "This is line 3\n"
          ]
        }
      ]
    },
    {
      "cell_type": "code",
      "source": [
        "type(FileContent)"
      ],
      "metadata": {
        "colab": {
          "base_uri": "https://localhost:8080/"
        },
        "id": "l2_g2NUCQ-eT",
        "outputId": "c5b06b61-64a8-4a2b-c2b9-cc5dfbc45e59"
      },
      "execution_count": null,
      "outputs": [
        {
          "output_type": "execute_result",
          "data": {
            "text/plain": [
              "str"
            ]
          },
          "metadata": {},
          "execution_count": 36
        }
      ]
    },
    {
      "cell_type": "code",
      "source": [
        "file1.close()"
      ],
      "metadata": {
        "id": "ewetzxVmRTnA"
      },
      "execution_count": null,
      "outputs": []
    },
    {
      "cell_type": "code",
      "source": [
        "with open(example1, \"r\") as file1:\n",
        "     FileContent = file1.read()\n",
        "     print(FileContent)"
      ],
      "metadata": {
        "colab": {
          "base_uri": "https://localhost:8080/"
        },
        "id": "06FBDs2wRV8K",
        "outputId": "ad3d1f96-6a87-45fa-8405-acf026663faa"
      },
      "execution_count": null,
      "outputs": [
        {
          "output_type": "stream",
          "name": "stdout",
          "text": [
            "This is line 1 \n",
            "This is line 2\n",
            "This is line 3\n"
          ]
        }
      ]
    },
    {
      "cell_type": "code",
      "source": [
        "with open(example1, \"r\") as file1:\n",
        "     print(file1.read(4))"
      ],
      "metadata": {
        "colab": {
          "base_uri": "https://localhost:8080/"
        },
        "id": "lRbMZKMDTLdr",
        "outputId": "a2a86c58-d0d9-4a39-f7f2-183dd88cd1db"
      },
      "execution_count": null,
      "outputs": [
        {
          "output_type": "stream",
          "name": "stdout",
          "text": [
            "This\n"
          ]
        }
      ]
    },
    {
      "cell_type": "code",
      "source": [
        "with open(example1, \"r\") as file1:\n",
        "     print(file.read(4))\n",
        "     print(file.read(4))\n",
        "     print(file.read(7))\n",
        "     print(file.read(15))"
      ],
      "metadata": {
        "colab": {
          "base_uri": "https://localhost:8080/"
        },
        "id": "Xb5rbcRuTcf8",
        "outputId": "327def17-b27e-409d-9a2a-71348c59f7f8"
      },
      "execution_count": null,
      "outputs": [
        {
          "output_type": "stream",
          "name": "stdout",
          "text": [
            "This\n",
            " is \n",
            "line 1 \n",
            "\n",
            "This is line 2\n"
          ]
        }
      ]
    },
    {
      "cell_type": "code",
      "source": [
        "with open(example1, \"r\") as file1:\n",
        "     print(file1.read(16))\n",
        "     print(file1.read(5))\n",
        "     print(file1.read(9))"
      ],
      "metadata": {
        "colab": {
          "base_uri": "https://localhost:8080/"
        },
        "id": "BDhF69eQTwZL",
        "outputId": "86e1aa9c-4147-4726-923f-20d2ba4fb6cc"
      },
      "execution_count": null,
      "outputs": [
        {
          "output_type": "stream",
          "name": "stdout",
          "text": [
            "This is line 1 \n",
            "\n",
            "This \n",
            "is line 2\n"
          ]
        }
      ]
    },
    {
      "cell_type": "code",
      "source": [
        "with open(example1, \"r\") as file1:\n",
        "     print(\"first line: \" + file1.readline())"
      ],
      "metadata": {
        "colab": {
          "base_uri": "https://localhost:8080/"
        },
        "id": "6brWgrdiUhs_",
        "outputId": "54781048-8fa8-436c-ea2d-902b5b24d33c"
      },
      "execution_count": null,
      "outputs": [
        {
          "output_type": "stream",
          "name": "stdout",
          "text": [
            "first line: This is line 1 \n",
            "\n"
          ]
        }
      ]
    },
    {
      "cell_type": "code",
      "source": [
        "with open(example1, \"r\") as file1:\n",
        "     i = 0\n",
        "     for line in file1:\n",
        "         print(\"Iteration\", str(i), \": \", line)"
      ],
      "metadata": {
        "colab": {
          "base_uri": "https://localhost:8080/"
        },
        "id": "dsU_p4NHUr8c",
        "outputId": "b2fc0775-5f3f-46af-f175-0fe289d09deb"
      },
      "execution_count": null,
      "outputs": [
        {
          "output_type": "stream",
          "name": "stdout",
          "text": [
            "Iteration 0 :  This is line 1 \n",
            "\n",
            "Iteration 0 :  This is line 2\n",
            "\n",
            "Iteration 0 :  This is line 3\n"
          ]
        }
      ]
    },
    {
      "cell_type": "code",
      "source": [
        "print (\"Selamat datang di Toko Maju Jaya\")\n",
        "print (\"Senin, 4 September 2023     13.05\")\n",
        "print (\"r\")\n",
        "\n",
        "print (\"DAFTAR BELANJA\")\n",
        "item1 = (\"Sabun\")\n",
        "item2 = (\"Shampo\")\n",
        "item3 = (\"Mie instant\")\n",
        "harga1 = (\"Rp10000\")\n",
        "harga2 = (\"Rp15000\")\n",
        "harga3 = (\"Rp 5000\")\n",
        "harga4 = (\"Rp 17500\")\n",
        "\n",
        "total = harga1+harga2+harga3+harga4"
      ],
      "metadata": {
        "colab": {
          "base_uri": "https://localhost:8080/"
        },
        "id": "GEL2lBVAVUOv",
        "outputId": "ea8060aa-5838-4670-bbb2-940114b25600"
      },
      "execution_count": null,
      "outputs": [
        {
          "output_type": "stream",
          "name": "stdout",
          "text": [
            "Selamat datang di Toko Maju Jaya\n",
            "Senin, 4 September 2023     13.05\n",
            "r\n",
            "DAFTAR BELANJA\n"
          ]
        }
      ]
    },
    {
      "cell_type": "code",
      "source": [
        "with open('biodata.txt', 'w') as p:\n",
        "     p.write(\"Nama   : Muafifi Daffa Firmansyah\\n\")\n",
        "     p.write(\"NPM    : 2440506073\\n\")\n",
        "     p.write(\"Prodi  : S1 Teknik Informatika\\n\")\n",
        "     p.write(\"Alamat : Secang, Kab. Magelang\\n\")\n",
        "     p.write(\"Hobi   : Nge-gym, membaca buku\\n\")\n",
        "     p.write(\"email  : firmansyah.21012006@gmail.com\\n\")\n",
        "with open('/resource/data/Biodata.txt', 'r') as p:\n",
        "     print(p.read())\n"
      ],
      "metadata": {
        "id": "qJ528W71mFV2",
        "colab": {
          "base_uri": "https://localhost:8080/",
          "height": 199
        },
        "outputId": "ccc8b234-8b8c-4680-d5b3-ecd607dc24d2"
      },
      "execution_count": null,
      "outputs": [
        {
          "output_type": "error",
          "ename": "FileNotFoundError",
          "evalue": "[Errno 2] No such file or directory: '/resource/data/Biodata.txt'",
          "traceback": [
            "\u001b[0;31m---------------------------------------------------------------------------\u001b[0m",
            "\u001b[0;31mFileNotFoundError\u001b[0m                         Traceback (most recent call last)",
            "\u001b[0;32m<ipython-input-8-836fac400edb>\u001b[0m in \u001b[0;36m<cell line: 8>\u001b[0;34m()\u001b[0m\n\u001b[1;32m      6\u001b[0m      \u001b[0mp\u001b[0m\u001b[0;34m.\u001b[0m\u001b[0mwrite\u001b[0m\u001b[0;34m(\u001b[0m\u001b[0;34m\"Hobi   : Nge-gym, membaca buku\\n\"\u001b[0m\u001b[0;34m)\u001b[0m\u001b[0;34m\u001b[0m\u001b[0;34m\u001b[0m\u001b[0m\n\u001b[1;32m      7\u001b[0m      \u001b[0mp\u001b[0m\u001b[0;34m.\u001b[0m\u001b[0mwrite\u001b[0m\u001b[0;34m(\u001b[0m\u001b[0;34m\"email  : firmansyah.21012006@gmail.com\\n\"\u001b[0m\u001b[0;34m)\u001b[0m\u001b[0;34m\u001b[0m\u001b[0;34m\u001b[0m\u001b[0m\n\u001b[0;32m----> 8\u001b[0;31m \u001b[0;32mwith\u001b[0m \u001b[0mopen\u001b[0m\u001b[0;34m(\u001b[0m\u001b[0;34m'/resource/data/Biodata.txt'\u001b[0m\u001b[0;34m,\u001b[0m \u001b[0;34m'r'\u001b[0m\u001b[0;34m)\u001b[0m \u001b[0;32mas\u001b[0m \u001b[0mp\u001b[0m\u001b[0;34m:\u001b[0m\u001b[0;34m\u001b[0m\u001b[0;34m\u001b[0m\u001b[0m\n\u001b[0m\u001b[1;32m      9\u001b[0m      \u001b[0mprint\u001b[0m\u001b[0;34m(\u001b[0m\u001b[0mp\u001b[0m\u001b[0;34m.\u001b[0m\u001b[0mread\u001b[0m\u001b[0;34m(\u001b[0m\u001b[0;34m)\u001b[0m\u001b[0;34m)\u001b[0m\u001b[0;34m\u001b[0m\u001b[0;34m\u001b[0m\u001b[0m\n",
            "\u001b[0;31mFileNotFoundError\u001b[0m: [Errno 2] No such file or directory: '/resource/data/Biodata.txt'"
          ]
        }
      ]
    },
    {
      "cell_type": "code",
      "source": [
        "!mkdir -p /resources/data"
      ],
      "metadata": {
        "id": "RNTSuZZutOyP"
      },
      "execution_count": null,
      "outputs": []
    },
    {
      "cell_type": "code",
      "source": [
        "with open('/resources/data/Example2.txt', 'w') as nigga:\n",
        "    nigga.write(\"This is line A\")"
      ],
      "metadata": {
        "id": "-jHA9lIMuAi7"
      },
      "execution_count": null,
      "outputs": []
    },
    {
      "cell_type": "code",
      "source": [
        "from os import write\n",
        "print('Selamat Datang di Toko Maju Jaya')\n",
        "print('Senin, 11 September 2024 22.14')\n",
        "print()\n",
        "\n",
        "print('DAFTAR BELANJA')\n",
        "item1 = \"Sabun\" # Use = to assign values to variables\n",
        "item2 = \"Shampo\"\n",
        "item3 = \"Mie Instant\"\n",
        "item4 = \"Detergen\"\n",
        "harga1 = 10000\n",
        "harga2 = 15000\n",
        "harga3 = 5000\n",
        "harga4 = 17500\n",
        "\n",
        "total = harga1+harga2+harga3+harga4\n",
        "\n",
        "print(item1, \" Rp\" + str(harga1))\n",
        "print(item2, \" Rp\" + str(harga2))\n",
        "print(item3, \" Rp\" + str(harga3))\n",
        "print(item4, \" Rp\" + str(harga4))\n",
        "\n",
        "print(\" \")\n",
        "print('total = ', str(total))\n",
        "print(\" \")\n",
        "\n",
        "with open('kuitansi.txt,', 'w') as kuitansi:\n",
        "    kuitansi.write(\"Selamat Datang di Toko Maju Jaya\\n\")\n",
        "    kuitansi.write(\" \\n\")\n",
        "    kuitansi.write(\"Kuitansi - 11 September 2024 22.14\\n\")\n",
        "    kuitansi.write(\"\\n\")\n",
        "    kuitansi.write(item1 + \"Rp\" + str(harga1) + \"\\n\")\n",
        "    kuitansi.write(item2 + \"Rp\" + str(harga2) + \"\\n\")\n",
        "    kuitansi.write(item3 + \"Rp\" + str(harga3) + \"\\n\")\n",
        "    kuitansi.write(item4 + \"Rp\" + str(harga4) + \"\\n\")\n",
        "    kuitansi.write(\"\\n\")\n",
        "    kuitansi.write(\"Total = Rp\" + str(total) + \"\\n\")\n"
      ],
      "metadata": {
        "colab": {
          "base_uri": "https://localhost:8080/"
        },
        "id": "Qf6gjMHHvWJ8",
        "outputId": "31d6eb5b-888e-4c98-b39b-6a8c67d76e29"
      },
      "execution_count": null,
      "outputs": [
        {
          "output_type": "stream",
          "name": "stdout",
          "text": [
            "Selamat Datang di Toko Maju Jaya\n",
            "Senin, 11 September 2024 22.14\n",
            "\n",
            "DAFTAR BELANJA\n",
            "Sabun  Rp10000\n",
            "Shampo  Rp15000\n",
            "Mie Instant  Rp5000\n",
            "Detergen  Rp17500\n",
            " \n",
            "total =  47500\n",
            " \n"
          ]
        }
      ]
    },
    {
      "cell_type": "code",
      "source": [
        "with open('kuitansi.txt', 'w') as kuitansi:\n",
        "    kuitansi.write(\"Selamat Datang di Toko Maju Jaya\\n\")\n",
        "    kuitansi.write(\" \\n\")\n",
        "    kuitansi.write(\"Kuitansi - 11 September 2024 22.14\\n\")\n",
        "    kuitansi.write(\"\\n\")\n",
        "    kuitansi.write(item1 + \"Rp\" + str(harga1) +\"\\n\")\n",
        "    kuitansi.write(item2 + \"Rp\" + str(harga2) + \"\\n\")\n",
        "    kuitansi.write(item3 + \"Rp\" + str(harga3) + \"\\n\")\n",
        "    kuitansi.write(item4 + \"Rp\" + str(harga4) + \"\\n\")\n",
        "    kuitansi.write(\"\\n\")\n",
        "    kuitansi.write(\"Total = Rp\" + str(total) + \"\\n\")\n"
      ],
      "metadata": {
        "id": "l3-M8qWgyIby"
      },
      "execution_count": null,
      "outputs": []
    },
    {
      "cell_type": "code",
      "source": [
        "with open('biodata.txt', 'w') as p:\n",
        "     p.write(\"Nama   : Muafifi Daffa Firmansyah\\n\")\n",
        "     p.write(\"NPM    : 2440506073\\n\")\n",
        "     p.write(\"Prodi  : S1 Teknik Informatika\\n\")\n",
        "     p.write(\"Alamat : Secang, Kab. Magelang\\n\")\n",
        "     p.write(\"Hobi   : Nge-gym, membaca buku\\n\")\n",
        "     p.write(\"email  : firmansyah.21012006@gmail.com\\n\")\n",
        "with open('biodata.txt', 'r') as p:\n",
        "     print(p.read())"
      ],
      "metadata": {
        "colab": {
          "base_uri": "https://localhost:8080/"
        },
        "id": "nPpXO4aFuSbi",
        "outputId": "7282c2bb-6c88-40e5-de35-0c9f9c981723"
      },
      "execution_count": null,
      "outputs": [
        {
          "output_type": "stream",
          "name": "stdout",
          "text": [
            "Nama   : Muafifi Daffa Firmansyah\n",
            "NPM    : 2440506073\n",
            "Prodi  : S1 Teknik Informatika\n",
            "Alamat : Secang, Kab. Magelang\n",
            "Hobi   : Nge-gym, membaca buku\n",
            "email  : firmansyah.21012006@gmail.com\n",
            "\n"
          ]
        }
      ]
    },
    {
      "cell_type": "code",
      "source": [
        "with open('/resources/data/biodata.txt', 'r') as p:\n",
        "\n",
        "    for line in p:\n",
        "        if \"nama\" in line or \"NPM\" in line or \"Prodi\" in line or \"Alamat\" in line or \"Hobi\" in line or \"email\" in line:\n",
        "            print(line.strip())"
      ],
      "metadata": {
        "colab": {
          "base_uri": "https://localhost:8080/",
          "height": 217
        },
        "id": "ZTaN8KNO8Fxf",
        "outputId": "c84d6304-b9a2-483d-b088-7b5754035c95"
      },
      "execution_count": null,
      "outputs": [
        {
          "output_type": "error",
          "ename": "FileNotFoundError",
          "evalue": "[Errno 2] No such file or directory: '/resources/data/biodata.txt'",
          "traceback": [
            "\u001b[0;31m---------------------------------------------------------------------------\u001b[0m",
            "\u001b[0;31mFileNotFoundError\u001b[0m                         Traceback (most recent call last)",
            "\u001b[0;32m<ipython-input-18-8aa5de540c9e>\u001b[0m in \u001b[0;36m<cell line: 1>\u001b[0;34m()\u001b[0m\n\u001b[0;32m----> 1\u001b[0;31m \u001b[0;32mwith\u001b[0m \u001b[0mopen\u001b[0m\u001b[0;34m(\u001b[0m\u001b[0;34m'/resources/data/biodata.txt'\u001b[0m\u001b[0;34m,\u001b[0m \u001b[0;34m'r'\u001b[0m\u001b[0;34m)\u001b[0m \u001b[0;32mas\u001b[0m \u001b[0mp\u001b[0m\u001b[0;34m:\u001b[0m\u001b[0;34m\u001b[0m\u001b[0;34m\u001b[0m\u001b[0m\n\u001b[0m\u001b[1;32m      2\u001b[0m \u001b[0;34m\u001b[0m\u001b[0m\n\u001b[1;32m      3\u001b[0m     \u001b[0;32mfor\u001b[0m \u001b[0mline\u001b[0m \u001b[0;32min\u001b[0m \u001b[0mp\u001b[0m\u001b[0;34m:\u001b[0m\u001b[0;34m\u001b[0m\u001b[0;34m\u001b[0m\u001b[0m\n\u001b[1;32m      4\u001b[0m         \u001b[0;32mif\u001b[0m \u001b[0;34m\"nama\"\u001b[0m \u001b[0;32min\u001b[0m \u001b[0mline\u001b[0m \u001b[0;32mor\u001b[0m \u001b[0;34m\"NPM\"\u001b[0m \u001b[0;32min\u001b[0m \u001b[0mline\u001b[0m \u001b[0;32mor\u001b[0m \u001b[0;34m\"Prodi\"\u001b[0m \u001b[0;32min\u001b[0m \u001b[0mline\u001b[0m \u001b[0;32mor\u001b[0m \u001b[0;34m\"Alamat\"\u001b[0m \u001b[0;32min\u001b[0m \u001b[0mline\u001b[0m \u001b[0;32mor\u001b[0m \u001b[0;34m\"Hobi\"\u001b[0m \u001b[0;32min\u001b[0m \u001b[0mline\u001b[0m \u001b[0;32mor\u001b[0m \u001b[0;34m\"email\"\u001b[0m \u001b[0;32min\u001b[0m \u001b[0mline\u001b[0m\u001b[0;34m:\u001b[0m\u001b[0;34m\u001b[0m\u001b[0;34m\u001b[0m\u001b[0m\n\u001b[1;32m      5\u001b[0m             \u001b[0mprint\u001b[0m\u001b[0;34m(\u001b[0m\u001b[0mline\u001b[0m\u001b[0;34m.\u001b[0m\u001b[0mstrip\u001b[0m\u001b[0;34m(\u001b[0m\u001b[0;34m)\u001b[0m\u001b[0;34m)\u001b[0m\u001b[0;34m\u001b[0m\u001b[0;34m\u001b[0m\u001b[0m\n",
            "\u001b[0;31mFileNotFoundError\u001b[0m: [Errno 2] No such file or directory: '/resources/data/biodata.txt'"
          ]
        }
      ]
    },
    {
      "cell_type": "markdown",
      "source": [],
      "metadata": {
        "id": "JwPZXR-KMhdt"
      }
    },
    {
      "cell_type": "code",
      "source": [
        "with open('biodata.txt', 'r') as p:\n",
        "\n",
        "    for line in p:\n",
        "        if \"nama\" in line or \"NPM\" in line or \"Prodi\" in line or \"Alamat\" in line or \"Hobi\" in line or \"email\" in line:\n",
        "            print(line.strip())"
      ],
      "metadata": {
        "colab": {
          "base_uri": "https://localhost:8080/"
        },
        "id": "lbjWbO0KAKSJ",
        "outputId": "d235babc-9fa3-4c4b-8b36-a088de428015"
      },
      "execution_count": null,
      "outputs": [
        {
          "output_type": "stream",
          "name": "stdout",
          "text": [
            "NPM    : 2440506073\n",
            "Prodi  : S1 Teknik Informatika\n",
            "Alamat : Secang, Kab. Magelang\n",
            "Hobi   : Nge-gym, membaca buku\n",
            "email  : firmansyah.21012006@gmail.com\n"
          ]
        }
      ]
    },
    {
      "cell_type": "code",
      "source": [
        "console.log(\"Hello World\");"
      ],
      "metadata": {
        "colab": {
          "base_uri": "https://localhost:8080/",
          "height": 145
        },
        "id": "jgG4JEtXMZvB",
        "outputId": "318b4191-203b-4058-c021-0f4bbd251025"
      },
      "execution_count": null,
      "outputs": [
        {
          "output_type": "error",
          "ename": "NameError",
          "evalue": "name 'console' is not defined",
          "traceback": [
            "\u001b[0;31m---------------------------------------------------------------------------\u001b[0m",
            "\u001b[0;31mNameError\u001b[0m                                 Traceback (most recent call last)",
            "\u001b[0;32m<ipython-input-20-02b6e238cf69>\u001b[0m in \u001b[0;36m<cell line: 1>\u001b[0;34m()\u001b[0m\n\u001b[0;32m----> 1\u001b[0;31m \u001b[0mconsole\u001b[0m\u001b[0;34m.\u001b[0m\u001b[0mlog\u001b[0m\u001b[0;34m(\u001b[0m\u001b[0;34m\"Hello World\"\u001b[0m\u001b[0;34m)\u001b[0m\u001b[0;34m;\u001b[0m\u001b[0;34m\u001b[0m\u001b[0;34m\u001b[0m\u001b[0m\n\u001b[0m",
            "\u001b[0;31mNameError\u001b[0m: name 'console' is not defined"
          ]
        }
      ]
    },
    {
      "cell_type": "code",
      "source": [
        "nilai_shafira = (85 + 75) / 2\n",
        "nilai_shafira\n",
        "\n",
        "jumlah_nilai_hanif_dan_andi = 70 + 75 + 75 + 90\n",
        "jumlah_nilai_hanif_dan_andi\n",
        "\n",
        "rata_rata_kalkulus = (80 + 85 + 85 + 95) / 4\n",
        "rata_rata_kalkulus\n",
        "\n",
        "rata_rata_statistika = (75 + 80 + 85 + 90) / 4\n",
        "rata_rata_statistika\n",
        "\n",
        "rata_rata_nilai_kuliah_kalkulus = (70+75+75+80+80+85+85+85+95) / 9\n",
        "rata_rata_nilai_kuliah_kalkulus\n",
        "\n",
        "rata_rata_nilai_kuliah_statistika = (75+90+80+80+85+90+75+85+75) / 9\n",
        "rata_rata_nilai_kuliah_statistika\n",
        "\n",
        "print('1.Rata-Rata nilai Shafira =' ,nilai_shafira)\n",
        "print('2.Jumlah nilai hanif dan andi =' ,jumlah_nilai_hanif_dan_andi)\n",
        "print('3.Rata-Rata nilai kalkulus widya, Dhanar, Hikma dan Nedia =' ,rata_rata_kalkulus)\n",
        "print('  Rata-Rata nilai statistika widya, Dhanar, Hikma dan Nedia =' ,rata_rata_statistika)\n",
        "print('4.Rata-Rata nilai mata kuliah kalkulus =',rata_rata_nilai_kuliah_kalkulus)\n",
        "print('5.Rata-Rata nilai mata kuliah statistika =',rata_rata_nilai_kuliah_statistika)"
      ],
      "metadata": {
        "id": "GHMd3XE6OI41",
        "outputId": "ec7f82bb-fe69-476a-e7a7-68a4283f2add",
        "colab": {
          "base_uri": "https://localhost:8080/"
        }
      },
      "execution_count": null,
      "outputs": [
        {
          "output_type": "stream",
          "name": "stdout",
          "text": [
            "1.Rata-Rata nilai Shafira = 80.0\n",
            "2.Jumlah nilai hanif dan andi = 310\n",
            "3.Rata-Rata nilai kalkulus widya, Dhanar, Hikma dan Nedia = 86.25\n",
            "  Rata-Rata nilai statistika widya, Dhanar, Hikma dan Nedia = 82.5\n",
            "4.Rata-Rata nilai mata kuliah kalkulus = 81.11111111111111\n",
            "5.Rata-Rata nilai mata kuliah statistika = 81.66666666666667\n"
          ]
        }
      ]
    },
    {
      "cell_type": "code",
      "source": [
        "print('Hello, saya menggunakan laptop!')"
      ],
      "metadata": {
        "id": "Ldf0pBmTmE4P",
        "outputId": "24e3f3ff-a3b4-4e0d-e91f-acc5e8ce33b3",
        "colab": {
          "base_uri": "https://localhost:8080/"
        }
      },
      "execution_count": null,
      "outputs": [
        {
          "output_type": "stream",
          "name": "stdout",
          "text": [
            "Hello, saya menggunakan laptop!\n"
          ]
        }
      ]
    },
    {
      "cell_type": "code",
      "source": [
        "with open('sample_data/Daffa_sigma_ohio.txt', 'r') as writefile:\n",
        "  print(writefile.read())"
      ],
      "metadata": {
        "colab": {
          "base_uri": "https://localhost:8080/"
        },
        "id": "PmBeImYroSmw",
        "outputId": "1238217a-3b98-44f6-f438-db0d9ffc1e7a"
      },
      "execution_count": 9,
      "outputs": [
        {
          "output_type": "stream",
          "name": "stdout",
          "text": [
            "Nama   : Muafifi Daffa Firmansyah\n",
            "Prodi  : S1 Teknologi Informasi\n",
            "NPM    : 2440506073\n",
            "Alamat : Secang, Magelang\n",
            "Hobi   : Gym, roblox studio\n",
            "Email  : firmansyah.21012006@gmail.com\n"
          ]
        }
      ]
    },
    {
      "cell_type": "code",
      "source": [
        "with open('sample_data/Daffa_sigma_ohio.txt', 'r') as writefile:\n",
        "  for line in writefile:\n",
        "    if \"Nama\" in line or \"Prodi\" in line or \"Email\" in line:\n",
        "      print(line.strip())"
      ],
      "metadata": {
        "colab": {
          "base_uri": "https://localhost:8080/"
        },
        "id": "hnQIo_quqwpv",
        "outputId": "80763902-7f13-469a-b3a2-8381e7b3eb24"
      },
      "execution_count": 14,
      "outputs": [
        {
          "output_type": "stream",
          "name": "stdout",
          "text": [
            "Nama   : Muafifi Daffa Firmansyah\n",
            "Prodi  : S1 Teknologi Informasi\n",
            "Email  : firmansyah.21012006@gmail.com\n"
          ]
        }
      ]
    },
    {
      "cell_type": "code",
      "source": [
        "with open('sample_data/Daffa_sigma_ohio.txt', 'r') as readfile:\n",
        "  with open('sample_data/Daffa_sigma_ohio_copy.txt', 'w') as writefile:\n",
        "    for line in readfile:\n",
        "      writefile.write(line)"
      ],
      "metadata": {
        "id": "9SihafXP9wxi"
      },
      "execution_count": 15,
      "outputs": []
    },
    {
      "cell_type": "code",
      "source": [
        "with open('sample_data/Daffa_sigma_ohio_copy.txt', 'r') as testwritefile:\n",
        "  for line in testwritefile:\n",
        "      if \"Nama\" in line or \"Prodi\" in line or \"Email\" in line:\n",
        "          print(line.strip())"
      ],
      "metadata": {
        "colab": {
          "base_uri": "https://localhost:8080/"
        },
        "id": "tjNYOkVsANiA",
        "outputId": "69b0bda1-7a79-4e64-cb99-cd6be64d2283"
      },
      "execution_count": 17,
      "outputs": [
        {
          "output_type": "stream",
          "name": "stdout",
          "text": [
            "Nama   : Muafifi Daffa Firmansyah\n",
            "Prodi  : S1 Teknologi Informasi\n",
            "Email  : firmansyah.21012006@gmail.com\n"
          ]
        }
      ]
    },
    {
      "cell_type": "code",
      "source": [],
      "metadata": {
        "id": "ha7ihpJWA4nI"
      },
      "execution_count": null,
      "outputs": []
    }
  ]
}