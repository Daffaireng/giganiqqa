{
  "nbformat": 4,
  "nbformat_minor": 0,
  "metadata": {
    "colab": {
      "provenance": [],
      "authorship_tag": "ABX9TyOlc+IXgPNkrqBevhyAiBuq",
      "include_colab_link": true
    },
    "kernelspec": {
      "name": "python3",
      "display_name": "Python 3"
    },
    "language_info": {
      "name": "python"
    }
  },
  "cells": [
    {
      "cell_type": "markdown",
      "metadata": {
        "id": "view-in-github",
        "colab_type": "text"
      },
      "source": [
        "<a href=\"https://colab.research.google.com/github/Daffaireng/giganiqqa/blob/main/week_10.ipynb\" target=\"_parent\"><img src=\"https://colab.research.google.com/assets/colab-badge.svg\" alt=\"Open In Colab\"/></a>"
      ]
    },
    {
      "cell_type": "code",
      "source": [
        "n = int(input(\"Masukkan bilangan\"))\n",
        "faktorial = lambda x:1 if x == 0 or x == 1 else x * faktorial(x-1)\n",
        "print(f\"{n}! = {faktorial(n)}\")"
      ],
      "metadata": {
        "colab": {
          "base_uri": "https://localhost:8080/"
        },
        "id": "buiivqdNcSZe",
        "outputId": "61125e3c-05b8-4309-cad6-8cd8cee4e947"
      },
      "execution_count": null,
      "outputs": [
        {
          "output_type": "stream",
          "name": "stdout",
          "text": [
            "Masukkan bilangan2\n",
            "2! = 2\n"
          ]
        }
      ]
    },
    {
      "cell_type": "code",
      "execution_count": null,
      "metadata": {
        "colab": {
          "base_uri": "https://localhost:8080/"
        },
        "id": "HcRud6EyaI4j",
        "outputId": "12bf2283-1b17-4794-8218-2df13d0a390a"
      },
      "outputs": [
        {
          "output_type": "stream",
          "name": "stdout",
          "text": [
            "\n",
            "Pilih perhitungan:\n",
            "1. Luas Lingkaran\n",
            "2. Luas Persegi\n",
            "3. Luas Segitiga\n",
            "4. Selesai\n",
            "Masukkan pilihan (1/2/3/4): 3\n",
            "Masukkan panjang alas segitiga: 1\n",
            "Masukkan tinggi segitiga: 6\n",
            "Luas segitiga: 3.0\n",
            "\n",
            "Pilih perhitungan:\n",
            "1. Luas Lingkaran\n",
            "2. Luas Persegi\n",
            "3. Luas Segitiga\n",
            "4. Selesai\n",
            "Masukkan pilihan (1/2/3/4): 4\n",
            "Program selesai.\n"
          ]
        }
      ],
      "source": [
        "import math\n",
        "\n",
        "def luas_lingkaran(jari_jari):\n",
        "  \"\"\"Menghitung luas lingkaran.\"\"\"\n",
        "  return math.pi * jari_jari**2\n",
        "\n",
        "def luas_persegi(sisi):\n",
        "  \"\"\"Menghitung luas persegi.\"\"\"\n",
        "  return sisi**2\n",
        "\n",
        "def luas_segitiga(alas, tinggi):\n",
        "  \"\"\"Menghitung luas segitiga.\"\"\"\n",
        "  return 0.5 * alas * tinggi\n",
        "\n",
        "while True:\n",
        "  print(\"\\nPilih perhitungan:\")\n",
        "  print(\"1. Luas Lingkaran\")\n",
        "  print(\"2. Luas Persegi\")\n",
        "  print(\"3. Luas Segitiga\")\n",
        "  print(\"4. Selesai\")\n",
        "\n",
        "  pilihan = input(\"Masukkan pilihan (1/2/3/4): \")\n",
        "\n",
        "  if pilihan == '1':\n",
        "    jari_jari = float(input(\"Masukkan jari-jari lingkaran: \"))\n",
        "    luas = luas_lingkaran(jari_jari)\n",
        "    print(f\"Luas lingkaran: {luas}\")\n",
        "  elif pilihan == '2':\n",
        "    sisi = float(input(\"Masukkan panjang sisi persegi: \"))\n",
        "    luas = luas_persegi(sisi)\n",
        "    print(f\"Luas persegi: {luas}\")\n",
        "  elif pilihan == '3':\n",
        "    alas = float(input(\"Masukkan panjang alas segitiga: \"))\n",
        "    tinggi = float(input(\"Masukkan tinggi segitiga: \"))\n",
        "    luas = luas_segitiga(alas, tinggi)\n",
        "    print(f\"Luas segitiga: {luas}\")\n",
        "  elif pilihan == '4':\n",
        "    print(\"Program selesai.\")\n",
        "    break\n",
        "  else:\n",
        "    print(\"Pilihan tidak valid. Silakan coba lagi.\")"
      ]
    },
    {
      "cell_type": "code",
      "source": [
        "def factorial(x):\n",
        "  if x == 1:\n",
        "     return 1\n",
        "  else:\n",
        "     return (x * factorial(x-1))"
      ],
      "metadata": {
        "id": "760trLrj0Idm"
      },
      "execution_count": null,
      "outputs": []
    }
  ]
}