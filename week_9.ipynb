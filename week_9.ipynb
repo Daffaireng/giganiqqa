{
  "nbformat": 4,
  "nbformat_minor": 0,
  "metadata": {
    "colab": {
      "provenance": [],
      "authorship_tag": "ABX9TyOmb9CBUfSRI3+o9NdReWtl",
      "include_colab_link": true
    },
    "kernelspec": {
      "name": "python3",
      "display_name": "Python 3"
    },
    "language_info": {
      "name": "python"
    }
  },
  "cells": [
    {
      "cell_type": "markdown",
      "metadata": {
        "id": "view-in-github",
        "colab_type": "text"
      },
      "source": [
        "<a href=\"https://colab.research.google.com/github/Daffaireng/giganiqqa/blob/main/week_9.ipynb\" target=\"_parent\"><img src=\"https://colab.research.google.com/assets/colab-badge.svg\" alt=\"Open In Colab\"/></a>"
      ]
    },
    {
      "cell_type": "code",
      "execution_count": null,
      "metadata": {
        "colab": {
          "base_uri": "https://localhost:8080/"
        },
        "id": "A0CDlNzWfGTy",
        "outputId": "8bb3e75f-bb6b-4b8c-ee57-effb6a02acc8"
      },
      "outputs": [
        {
          "output_type": "stream",
          "name": "stdout",
          "text": [
            "['Banana, apple, gandul']\n"
          ]
        }
      ],
      "source": [
        "thislist = [\"Banana, apple, gandul\"]\n",
        "print(thislist)"
      ]
    },
    {
      "cell_type": "code",
      "source": [
        "thislist = [\"Banana\", \"apple\", \"gandul\", \"Banana\", \"Gandul\"]\n",
        "print(thislist)"
      ],
      "metadata": {
        "colab": {
          "base_uri": "https://localhost:8080/"
        },
        "id": "GAhU8ctdn3UN",
        "outputId": "b468d9cb-13f3-467c-c86e-fdda2c4afcaa"
      },
      "execution_count": null,
      "outputs": [
        {
          "output_type": "stream",
          "name": "stdout",
          "text": [
            "['Banana', 'apple', 'gandul', 'Banana', 'Gandul']\n"
          ]
        }
      ]
    },
    {
      "cell_type": "code",
      "source": [
        "print(len(thislist))"
      ],
      "metadata": {
        "colab": {
          "base_uri": "https://localhost:8080/"
        },
        "id": "qxxAuOlDoQdT",
        "outputId": "80826963-3490-4bf1-eba3-89dbace012bf"
      },
      "execution_count": null,
      "outputs": [
        {
          "output_type": "stream",
          "name": "stdout",
          "text": [
            "5\n"
          ]
        }
      ]
    },
    {
      "cell_type": "code",
      "source": [
        "list1 = [\"Banana\", \"apple\", \"gandul\"]\n",
        "list2 = [1, 5, 7, 9, 3]\n",
        "list3 = [True, False, False]\n",
        "print(list1)\n",
        "print(list2)\n",
        "print(list3)"
      ],
      "metadata": {
        "colab": {
          "base_uri": "https://localhost:8080/"
        },
        "id": "cf0KHyWYoSgs",
        "outputId": "f2eb0adb-4e1b-4e3e-d27c-4025a41d81d5"
      },
      "execution_count": null,
      "outputs": [
        {
          "output_type": "stream",
          "name": "stdout",
          "text": [
            "['Banana', 'apple', 'gandul']\n",
            "[1, 5, 7, 9, 3]\n",
            "[True, False, False]\n"
          ]
        }
      ]
    },
    {
      "cell_type": "code",
      "source": [
        "list1 = [\"abc\", 34, True, 40, \"male\"]\n",
        "print(list1)"
      ],
      "metadata": {
        "colab": {
          "base_uri": "https://localhost:8080/"
        },
        "id": "Wi3ImogFoheB",
        "outputId": "322da638-36e4-4431-8477-c8328b0f1079"
      },
      "execution_count": null,
      "outputs": [
        {
          "output_type": "stream",
          "name": "stdout",
          "text": [
            "['abc', 34, True, 40, 'male']\n"
          ]
        }
      ]
    },
    {
      "cell_type": "code",
      "source": [
        "mylist = [\"Banana\", \"apple\", \"gandul\"]\n",
        "print(type(mylist))"
      ],
      "metadata": {
        "colab": {
          "base_uri": "https://localhost:8080/"
        },
        "id": "pMThtSATpLuo",
        "outputId": "af12c82a-aa23-4b06-ea79-4c37ec9425cb"
      },
      "execution_count": null,
      "outputs": [
        {
          "output_type": "stream",
          "name": "stdout",
          "text": [
            "<class 'list'>\n"
          ]
        }
      ]
    },
    {
      "cell_type": "code",
      "source": [
        "thislist = list((\"Banana\", \"apple\", \"gandul\"))\n",
        "print(thislist)"
      ],
      "metadata": {
        "colab": {
          "base_uri": "https://localhost:8080/"
        },
        "id": "8ibowG8BpQZF",
        "outputId": "ee24f521-683e-4b28-8f84-f9ad24cfe911"
      },
      "execution_count": null,
      "outputs": [
        {
          "output_type": "stream",
          "name": "stdout",
          "text": [
            "['Banana', 'apple', 'gandul']\n"
          ]
        }
      ]
    },
    {
      "cell_type": "code",
      "source": [
        "print(thislist[1])"
      ],
      "metadata": {
        "colab": {
          "base_uri": "https://localhost:8080/"
        },
        "id": "n_MePHV5pVHi",
        "outputId": "9ec8eda6-75ca-4971-94c2-474b18c4e336"
      },
      "execution_count": null,
      "outputs": [
        {
          "output_type": "stream",
          "name": "stdout",
          "text": [
            "apple\n"
          ]
        }
      ]
    },
    {
      "cell_type": "code",
      "source": [
        "print(thislist[-1])"
      ],
      "metadata": {
        "colab": {
          "base_uri": "https://localhost:8080/"
        },
        "id": "W1AuU1G2p3RO",
        "outputId": "9270d635-a3b9-41d6-f8cf-a0eae85ab198"
      },
      "execution_count": null,
      "outputs": [
        {
          "output_type": "stream",
          "name": "stdout",
          "text": [
            "gandul\n"
          ]
        }
      ]
    },
    {
      "cell_type": "code",
      "source": [
        "thislist = [\"Banana\", \"apple\", \"gandul\", \"rambutan\", \"lemon\"]\n",
        "print(thislist[2:5])"
      ],
      "metadata": {
        "colab": {
          "base_uri": "https://localhost:8080/"
        },
        "id": "ORqT1mgfp9LG",
        "outputId": "7de186d7-b9bc-40bd-a797-f528ada64265"
      },
      "execution_count": null,
      "outputs": [
        {
          "output_type": "stream",
          "name": "stdout",
          "text": [
            "['gandul', 'rambutan', 'lemon']\n"
          ]
        }
      ]
    },
    {
      "cell_type": "code",
      "source": [
        "print(thislist[:4])"
      ],
      "metadata": {
        "colab": {
          "base_uri": "https://localhost:8080/"
        },
        "id": "tmU9H1lnqT1j",
        "outputId": "7cdb0448-6b00-46e5-adad-9d20b4710315"
      },
      "execution_count": null,
      "outputs": [
        {
          "output_type": "stream",
          "name": "stdout",
          "text": [
            "['Banana', 'apple', 'gandul', 'rambutan']\n"
          ]
        }
      ]
    },
    {
      "cell_type": "code",
      "source": [
        "print(thislist[2:])"
      ],
      "metadata": {
        "colab": {
          "base_uri": "https://localhost:8080/"
        },
        "id": "IpDw2UkGqYIS",
        "outputId": "9878f60a-46eb-474c-a04d-97e7910cac11"
      },
      "execution_count": null,
      "outputs": [
        {
          "output_type": "stream",
          "name": "stdout",
          "text": [
            "['gandul', 'rambutan', 'lemon']\n"
          ]
        }
      ]
    },
    {
      "cell_type": "code",
      "source": [
        "print(thislist[-4:-1])"
      ],
      "metadata": {
        "colab": {
          "base_uri": "https://localhost:8080/"
        },
        "id": "1XH1iUBeqaLy",
        "outputId": "8c8fb89a-31c8-43ca-8ae1-4309ab04ee49"
      },
      "execution_count": null,
      "outputs": [
        {
          "output_type": "stream",
          "name": "stdout",
          "text": [
            "['apple', 'gandul', 'rambutan']\n"
          ]
        }
      ]
    },
    {
      "cell_type": "code",
      "source": [
        "thistuple = (\"Banana\", \"apple\", \"gandul\")\n",
        "for x in thistuple:\n",
        "  print(x)"
      ],
      "metadata": {
        "id": "pj6C2xCUqdUY",
        "colab": {
          "base_uri": "https://localhost:8080/"
        },
        "outputId": "fed3f731-e28a-4bdd-b9f1-6e3987d84451"
      },
      "execution_count": null,
      "outputs": [
        {
          "output_type": "stream",
          "name": "stdout",
          "text": [
            "Banana\n",
            "apple\n",
            "gandul\n"
          ]
        }
      ]
    },
    {
      "cell_type": "markdown",
      "source": [
        "list adalah koreksi data yang berurutan dan bisa diubah. Sintaks list ditulis menggunakan [ ]. Ciri-cirinya elemen dapat diubah, ditambah atau dihapus.\n",
        "Tuple ada;ah koleksi data yang berurutan tapi tidak bisa diubah."
      ],
      "metadata": {
        "id": "8TEIp4QlT3NF"
      }
    },
    {
      "cell_type": "code",
      "source": [
        "biodata = {\n",
        "    \"Nama\": \"Daffa Weimar Ottofritzabreusaufgaberstegezts\",\n",
        "    \"Kelas\": \"Rombel 2\",\n",
        "    \"Tanggal Lahir\": \"21 - O1 - 2006\",\n",
        "    \"no hp\": \"089000000000000\",\n",
        "    \"alamat\": \"Secang, Magelang\",\n",
        "    \"Hobi\": [\"Gym\", \"Weightlifting\"]\n",
        "}\n",
        "\n",
        "for key, value in biodata.items():\n",
        "  if key ==\"Hobi\":\n",
        "        print (f\" {key.capitalize()}:\")\n",
        "        for hobi in value:\n",
        "              print(f\"- {hobi}\")\n",
        "  else:\n",
        "    print(f\"{key.capitalize()}:{value}\")"
      ],
      "metadata": {
        "id": "Ifk8GKLWYc2F",
        "colab": {
          "base_uri": "https://localhost:8080/"
        },
        "outputId": "8befbf39-70fd-47fc-ea35-d38bb2bfbdd2"
      },
      "execution_count": null,
      "outputs": [
        {
          "output_type": "stream",
          "name": "stdout",
          "text": [
            "Nama:Daffa Weimar Ottofritzabreusaufgaberstegezts\n",
            "Kelas:Rombel 2\n",
            "Tanggal lahir:21 - O1 - 2006\n",
            "No hp:089000000000000\n",
            "Alamat:Secang, Magelang\n",
            " Hobi:\n",
            "- Gym\n",
            "- Weightlifting\n"
          ]
        }
      ]
    },
    {
      "cell_type": "code",
      "source": [],
      "metadata": {
        "id": "ap7jK3wAvLHA"
      },
      "execution_count": null,
      "outputs": []
    }
  ]
}