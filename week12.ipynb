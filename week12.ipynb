{
  "nbformat": 4,
  "nbformat_minor": 0,
  "metadata": {
    "colab": {
      "provenance": [],
      "authorship_tag": "ABX9TyNkqvfeWwSHdEd/KSFPQmeO",
      "include_colab_link": true
    },
    "kernelspec": {
      "name": "python3",
      "display_name": "Python 3"
    },
    "language_info": {
      "name": "python"
    }
  },
  "cells": [
    {
      "cell_type": "markdown",
      "metadata": {
        "id": "view-in-github",
        "colab_type": "text"
      },
      "source": [
        "<a href=\"https://colab.research.google.com/github/Daffaireng/giganiqqa/blob/main/week12.ipynb\" target=\"_parent\"><img src=\"https://colab.research.google.com/assets/colab-badge.svg\" alt=\"Open In Colab\"/></a>"
      ]
    },
    {
      "cell_type": "code",
      "execution_count": null,
      "metadata": {
        "colab": {
          "base_uri": "https://localhost:8080/"
        },
        "id": "yvnZaXp4Hnv-",
        "outputId": "016efa36-e7f3-45f5-fb7d-5345c878ccff"
      },
      "outputs": [
        {
          "output_type": "stream",
          "name": "stdout",
          "text": [
            "An exception occurred\n"
          ]
        }
      ],
      "source": [
        "try:\n",
        "  print(x)\n",
        "except:\n",
        "  print(\"An exception occurred\")"
      ]
    },
    {
      "cell_type": "code",
      "source": [
        "try:\n",
        "  print(x)\n",
        "except NameError:\n",
        "  print(\"Variable x is not defined\")\n",
        "except:\n",
        "  print(\"Something else went wrong\")"
      ],
      "metadata": {
        "colab": {
          "base_uri": "https://localhost:8080/"
        },
        "id": "UuI7I0EtH0_c",
        "outputId": "9ed7cd30-c696-4f39-afec-be46beb6dd85"
      },
      "execution_count": null,
      "outputs": [
        {
          "output_type": "stream",
          "name": "stdout",
          "text": [
            "Variable x is not defined\n"
          ]
        }
      ]
    },
    {
      "cell_type": "code",
      "source": [
        "try:\n",
        "  print(x)\n",
        "except NameError:\n",
        "  print(\"Variable x is not defined\")\n",
        "except:\n",
        "  print(\"Something else went wrong\")"
      ],
      "metadata": {
        "id": "500P2EUAIKGn",
        "colab": {
          "base_uri": "https://localhost:8080/"
        },
        "outputId": "ff8fb789-c949-4aa4-fb1e-f9eda1983f3c"
      },
      "execution_count": null,
      "outputs": [
        {
          "output_type": "stream",
          "name": "stdout",
          "text": [
            "Variable x is not defined\n"
          ]
        }
      ]
    },
    {
      "cell_type": "code",
      "source": [
        "try:\n",
        "  print(\"Hello\")\n",
        "except:\n",
        "  print(\"Something went wrong\")\n",
        "else:\n",
        "  print(\"Nothing went wrong\")"
      ],
      "metadata": {
        "colab": {
          "base_uri": "https://localhost:8080/"
        },
        "id": "vebyzqm0ITaZ",
        "outputId": "c2f70b13-8410-4de0-852e-c9fbe714fceb"
      },
      "execution_count": null,
      "outputs": [
        {
          "output_type": "stream",
          "name": "stdout",
          "text": [
            "Hello\n",
            "Nothing went wrong\n"
          ]
        }
      ]
    },
    {
      "cell_type": "code",
      "source": [
        "try:\n",
        "  print(x)\n",
        "except:\n",
        "  print(\"Something went wrong\")\n",
        "finally:\n",
        "  print(\"The 'try except' is finished\")"
      ],
      "metadata": {
        "colab": {
          "base_uri": "https://localhost:8080/"
        },
        "id": "fyXATxaVV-Yo",
        "outputId": "a4ba48bc-0266-4c94-a01f-2798c6d8bb0e"
      },
      "execution_count": null,
      "outputs": [
        {
          "output_type": "stream",
          "name": "stdout",
          "text": [
            "Something went wrong\n",
            "The 'try except' is finished\n"
          ]
        }
      ]
    },
    {
      "cell_type": "code",
      "source": [
        "import math\n",
        "\n",
        "def hitung_luas_lingkaran(radius):\n",
        "  \"\"\"Calculates the area of a circle.\n",
        "\n",
        "  Args:\n",
        "    radius: The radius of the circle.\n",
        "\n",
        "  Returns:\n",
        "    The area of the circle.\n",
        "  \"\"\"\n",
        "  return math.pi * radius**2\n",
        "\n",
        "def hitung_luas_persegi(side):\n",
        "  \"\"\"Calculates the area of a square.\n",
        "\n",
        "  Args:\n",
        "    side: The length of a side of the square.\n",
        "\n",
        "  Returns:\n",
        "    The area of the square.\n",
        "  \"\"\"\n",
        "  return side**2\n",
        "\n",
        "Radius = 0\n",
        "Side = 0\n",
        "\n",
        "\n",
        "if __name__== \"__main__\":\n",
        "  print(f\"Nilai Pi\\t\\t\\t: {math.pi}\\n\")\n",
        "\n",
        "\n",
        "  try:\n",
        "    Radius = input(\"Masukkan panjang jari=jari\\t:\")\n",
        "    if Radius and float(Radius):\n",
        "      print(f\"Luas lingkaran\\t\\t\\t: {hitung_luas_lingkaran(float(Radius)):g}\")\n",
        "    else:\n",
        "      print(\"Tidak boleh kosong\")\n",
        "  except ValueError:\n",
        "    print(\"Hanya bisa memasukkan angka\")\n",
        "\n",
        "  print(\"\\n\")\n",
        "\n",
        "\n",
        "  try:\n",
        "    Side = input(\"Masukkan panjang sisi\\t\\t:\")\n",
        "    if Side and float(Side):\n",
        "      print(f\"Luas persegi\\t\\t\\t: {hitung_luas_persegi(float(Side)):g}\")\n",
        "    else:\n",
        "      print(f\"Tidak boleh kosong\")\n",
        "  except ValueError:\n",
        "    print(\"Hanya bisa memasukkan angka\")"
      ],
      "metadata": {
        "colab": {
          "base_uri": "https://localhost:8080/"
        },
        "id": "LnQNkM7mpoRb",
        "outputId": "42a06eaa-3c67-454a-ff4b-755d7d88ba81"
      },
      "execution_count": null,
      "outputs": [
        {
          "output_type": "stream",
          "name": "stdout",
          "text": [
            "Nilai Pi\t\t\t: 3.141592653589793\n",
            "\n",
            "Masukkan panjang jari=jari\t:5\n",
            "Luas lingkaran\t\t\t: 78.5398\n",
            "\n",
            "\n",
            "Masukkan panjang sisi\t\t:10\n",
            "Luas persegi\t\t\t: 100\n"
          ]
        }
      ]
    },
    {
      "cell_type": "code",
      "source": [
        "def luas_lingkaran(r):\n",
        "  luas = 3.14*r**2\n",
        "  return luas\n",
        "def luas_persegi(s):\n",
        "  luas = s**2\n",
        "  return luas\n",
        "def luas_segitiga(a,t):\n",
        "  luas = 0.5*a*t\n",
        "  return luas\n",
        "def fungsi():\n",
        "\n",
        "\n",
        "  while True:\n",
        "    print('''Pilih Bangun Datar:\n",
        "    1. Lingkaran\n",
        "    2. Persegi\n",
        "    3. Segitiga\n",
        "    4. keluar''')\n",
        "\n",
        "    n = int(input(\"Masukkan pilihan: \"))\n",
        "    print()\n",
        "    if n == 1:\n",
        "      print(\"Lingkaran\")\n",
        "      try:\n",
        "        r = float(input(\"Masukkan jari-jari: \"))\n",
        "        luas = luas_lingkaran(r)\n",
        "        print(\"Luas Lingkaran: \",luas)\n",
        "      except ValueError:\n",
        "        print(\"Masukkan angka\")\n",
        "    elif n == 2:\n",
        "      print(\"Persegi\")\n",
        "      try:\n",
        "        s = float(input(\"Masukkan sisi: \"))\n",
        "        luas = luas_persegi(s)\n",
        "        print(\"Luas Persegi: \",luas)\n",
        "      except ValueError:\n",
        "        print(\"Masukkan angka\")\n",
        "    elif n == 3:\n",
        "      print(\"Segitiga\")\n",
        "      try:\n",
        "        a = float(input(\"Masukkan alas: \"))\n",
        "        t = float(input(\"Masukkan tinggi: \"))\n",
        "        luas = luas_segitiga(a,t)\n",
        "        print(\"Luas Segitiga: \",luas)\n",
        "      except ValueError:\n",
        "        print(\"Masukkan angka\")\n",
        "    elif n == 4:\n",
        "      print(\"anda telah keluar\")\n",
        "      break\n",
        "    else:\n",
        "      print(\"Pilihan tidak ada\")\n",
        "    print()\n",
        "\n",
        "fungsi()"
      ],
      "metadata": {
        "colab": {
          "base_uri": "https://localhost:8080/"
        },
        "id": "iYJ0j45Wpo5s",
        "outputId": "5591d70c-8a7c-4fca-ef37-536a1d8080ff"
      },
      "execution_count": null,
      "outputs": [
        {
          "output_type": "stream",
          "name": "stdout",
          "text": [
            "Pilih Bangun Datar:\n",
            "    1. Lingkaran\n",
            "    2. Persegi\n",
            "    3. Segitiga\n",
            "    4. keluar\n",
            "Masukkan pilihan: 3\n",
            "\n",
            "Segitiga\n",
            "Masukkan alas: 5\n",
            "Masukkan tinggi: 8\n",
            "Luas Segitiga:  20.0\n",
            "\n",
            "Pilih Bangun Datar:\n",
            "    1. Lingkaran\n",
            "    2. Persegi\n",
            "    3. Segitiga\n",
            "    4. keluar\n",
            "Masukkan pilihan: 4\n",
            "\n",
            "anda telah keluar\n"
          ]
        }
      ]
    },
    {
      "cell_type": "code",
      "source": [
        "npm = input(\"Masukkan NPM:\")\n",
        "\n",
        "try:\n",
        "    jumlah_ganjil = 0\n",
        "    jumlah_genap = 0\n",
        "    for angka in npm:\n",
        "        if not angka.isdigit():\n",
        "            raise ValueError(\"NPM harus berisi angka\")\n",
        "        if int(angka) % 2 == 0:\n",
        "            jumlah_genap += 1\n",
        "        else:\n",
        "            jumlah_ganjil += 1\n",
        "    print(\"Jumlah genap :\", jumlah_genap)\n",
        "    print(\"Jumlah ganjil :\", jumlah_ganjil)\n",
        "except ValueError as e:\n",
        "    print(e)"
      ],
      "metadata": {
        "colab": {
          "base_uri": "https://localhost:8080/"
        },
        "id": "VCL-ARcQOTe-",
        "outputId": "855c799a-093b-4110-8f24-11e33feb8323"
      },
      "execution_count": 16,
      "outputs": [
        {
          "output_type": "stream",
          "name": "stdout",
          "text": [
            "Masukkan NPM:bowo\n",
            "NPM harus berisi angka\n"
          ]
        }
      ]
    }
  ]
}