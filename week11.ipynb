{
 "cells": [
  {
   "cell_type": "code",
   "execution_count": 1,
   "metadata": {},
   "outputs": [
    {
     "name": "stdout",
     "output_type": "stream",
     "text": [
      "Luas lingkaran dengan jari-jari 7 adalah: 153.94\n",
      "Luas persegi dengan sisi 5 adalah: 25\n",
      "Luas persegi panjang dengan panjang 6 dan lebar 4 adalah: 24\n"
     ]
    }
   ],
   "source": [
    "# Exercise 1\n",
    "\n",
    "# Import modul matematika\n",
    "import matematika\n",
    "\n",
    "def main():\n",
    "    # Contoh penggunaan fungsi luas lingkaran\n",
    "    jari_jari = 7\n",
    "    luas_lingkaran = matematika.hitung_luas_lingkaran(jari_jari)\n",
    "    print(f\"Luas lingkaran dengan jari-jari {jari_jari} adalah: {luas_lingkaran:.2f}\")\n",
    "\n",
    "    # Contoh penggunaan fungsi luas persegi\n",
    "    sisi = 5\n",
    "    luas_persegi = matematika.hitung_luas_persegi(sisi)\n",
    "    print(f\"Luas persegi dengan sisi {sisi} adalah: {luas_persegi}\")\n",
    "\n",
    "    # Contoh penggunaan fungsi luas persegi panjang\n",
    "    panjang = 6\n",
    "    lebar = 4\n",
    "    luas_persegi_panjang = matematika.hitung_luas_persegi_panjang(panjang, lebar)\n",
    "    print(f\"Luas persegi panjang dengan panjang {panjang} dan lebar {lebar} adalah: {luas_persegi_panjang}\")\n",
    "\n",
    "if __name__ == \"__main__\":\n",
    "    main()"
   ]
  },
  {
   "cell_type": "code",
   "execution_count": 4,
   "metadata": {},
   "outputs": [
    {
     "name": "stdout",
     "output_type": "stream",
     "text": [
      "-0.9880316240928618\n",
      "<built-in function radians>\n",
      "<built-in function sinh>\n",
      "<built-in function tan>\n",
      "<built-in function remainder>\n"
     ]
    }
   ],
   "source": [
    "# exerrcise 2\n",
    "\n",
    "import math\n",
    "\n",
    "print(math.sin(30))\n",
    "print(math.radians)\n",
    "print(math.sinh)\n",
    "print(math.tan)\n",
    "print(math.remainder)"
   ]
  }
 ],
 "metadata": {
  "kernelspec": {
   "display_name": "Python 3",
   "language": "python",
   "name": "python3"
  },
  "language_info": {
   "codemirror_mode": {
    "name": "ipython",
    "version": 3
   },
   "file_extension": ".py",
   "mimetype": "text/x-python",
   "name": "python",
   "nbconvert_exporter": "python",
   "pygments_lexer": "ipython3",
   "version": "3.13.0"
  }
 },
 "nbformat": 4,
 "nbformat_minor": 2
}
