{
  "cells": [
    {
      "cell_type": "markdown",
      "metadata": {
        "id": "view-in-github",
        "colab_type": "text"
      },
      "source": [
        "<a href=\"https://colab.research.google.com/github/Daffaireng/giganiqqa/blob/main/UTSLAB_2440506073.ipynb\" target=\"_parent\"><img src=\"https://colab.research.google.com/assets/colab-badge.svg\" alt=\"Open In Colab\"/></a>"
      ]
    },
    {
      "cell_type": "code",
      "execution_count": null,
      "metadata": {
        "colab": {
          "base_uri": "https://localhost:8080/"
        },
        "id": "2v7J_aHpQ93z",
        "outputId": "56d6e476-a4e1-4423-8259-757f1f45f052"
      },
      "outputs": [
        {
          "output_type": "stream",
          "name": "stdout",
          "text": [
            "Jumlah baris: 20\n",
            "1 \n",
            "2 4 \n",
            "3 6 9 \n",
            "4 8 12 16 \n",
            "5 10 15 20 25 \n",
            "6 12 18 24 30 36 \n",
            "7 14 21 28 35 42 49 \n",
            "8 16 24 32 40 48 56 64 \n",
            "9 18 27 36 45 54 63 72 81 \n",
            "10 20 30 40 50 60 70 80 90 100 \n",
            "11 22 33 44 55 66 77 88 99 110 121 \n",
            "12 24 36 48 60 72 84 96 108 120 132 144 \n",
            "13 26 39 52 65 78 91 104 117 130 143 156 169 \n",
            "14 28 42 56 70 84 98 112 126 140 154 168 182 196 \n",
            "15 30 45 60 75 90 105 120 135 150 165 180 195 210 225 \n",
            "16 32 48 64 80 96 112 128 144 160 176 192 208 224 240 256 \n",
            "17 34 51 68 85 102 119 136 153 170 187 204 221 238 255 272 289 \n",
            "18 36 54 72 90 108 126 144 162 180 198 216 234 252 270 288 306 324 \n",
            "19 38 57 76 95 114 133 152 171 190 209 228 247 266 285 304 323 342 361 \n",
            "20 40 60 80 100 120 140 160 180 200 220 240 260 280 300 320 340 360 380 400 \n"
          ]
        }
      ],
      "source": [
        "n = int(input(\"Jumlah baris: \"))\n",
        "for i in range(1, n + 1):\n",
        "  for j in range(1, i + 1):\n",
        "    print(i*j, end=\" \")\n",
        "  print()"
      ]
    },
    {
      "cell_type": "code",
      "execution_count": null,
      "metadata": {
        "id": "z_s58CCvS-aU",
        "colab": {
          "base_uri": "https://localhost:8080/"
        },
        "outputId": "f70055c2-8843-4d54-d673-71ff7ab421b1"
      },
      "outputs": [
        {
          "output_type": "stream",
          "name": "stdout",
          "text": [
            "Masukkan NPM2440506073\n",
            "Jumlah digit genap: 7\n",
            "Jumlah digit ganjil: 3\n"
          ]
        }
      ],
      "source": [
        "npm = input(\"Masukkan NPM\")\n",
        "\n",
        "jumlah_ganjil = 0\n",
        "jumlah_genap = 0\n",
        "\n",
        "for digit in npm:\n",
        "\n",
        "    angka = int(digit)\n",
        "\n",
        "    if angka % 2 == 0:\n",
        "        jumlah_genap += 1\n",
        "    else:\n",
        "        jumlah_ganjil += 1\n",
        "\n",
        "print(f\"Jumlah digit genap:\", jumlah_genap)\n",
        "print(f\"Jumlah digit ganjil:\", jumlah_ganjil)"
      ]
    },
    {
      "cell_type": "code",
      "source": [],
      "metadata": {
        "id": "XUluYyxp_-AG"
      },
      "execution_count": null,
      "outputs": []
    }
  ],
  "metadata": {
    "colab": {
      "provenance": [],
      "authorship_tag": "ABX9TyP/80LoR/iqm9ZB5mZntvyV",
      "include_colab_link": true
    },
    "kernelspec": {
      "display_name": "Python 3",
      "name": "python3"
    },
    "language_info": {
      "name": "python"
    }
  },
  "nbformat": 4,
  "nbformat_minor": 0
}