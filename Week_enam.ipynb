{
  "nbformat": 4,
  "nbformat_minor": 0,
  "metadata": {
    "colab": {
      "provenance": [],
      "authorship_tag": "ABX9TyMa1/REJ1DpKTHuYPktYPJo",
      "include_colab_link": true
    },
    "kernelspec": {
      "name": "python3",
      "display_name": "Python 3"
    },
    "language_info": {
      "name": "python"
    }
  },
  "cells": [
    {
      "cell_type": "markdown",
      "metadata": {
        "id": "view-in-github",
        "colab_type": "text"
      },
      "source": [
        "<a href=\"https://colab.research.google.com/github/Daffaireng/giganiqqa/blob/main/Week_enam.ipynb\" target=\"_parent\"><img src=\"https://colab.research.google.com/assets/colab-badge.svg\" alt=\"Open In Colab\"/></a>"
      ]
    },
    {
      "cell_type": "code",
      "execution_count": null,
      "metadata": {
        "colab": {
          "base_uri": "https://localhost:8080/"
        },
        "id": "ZCTjzbRhGtpP",
        "outputId": "98d28556-2b62-4de1-e13c-4d4c4af56868"
      },
      "outputs": [
        {
          "output_type": "execute_result",
          "data": {
            "text/plain": [
              "range(0, 3)"
            ]
          },
          "metadata": {},
          "execution_count": 1
        }
      ],
      "source": [
        "range(3)"
      ]
    },
    {
      "cell_type": "code",
      "source": [
        "dates = [1982,1980,1973]\n",
        "N = len(dates)\n",
        "\n",
        "for i in range(N):\n",
        "    print(dates[i])"
      ],
      "metadata": {
        "colab": {
          "base_uri": "https://localhost:8080/"
        },
        "id": "0ySRnjn_HAAh",
        "outputId": "0bef4156-e357-48e2-c4e5-c419f2dd9555"
      },
      "execution_count": null,
      "outputs": [
        {
          "output_type": "stream",
          "name": "stdout",
          "text": [
            "1982\n",
            "1980\n",
            "1973\n"
          ]
        }
      ]
    },
    {
      "cell_type": "code",
      "source": [
        "for i in range(-2, 8):\n",
        "    print(i)"
      ],
      "metadata": {
        "colab": {
          "base_uri": "https://localhost:8080/"
        },
        "id": "nzLu3DNKHfwI",
        "outputId": "b9debf5e-cd5e-4e49-e714-51193a20b47a"
      },
      "execution_count": null,
      "outputs": [
        {
          "output_type": "stream",
          "name": "stdout",
          "text": [
            "-2\n",
            "-1\n",
            "0\n",
            "1\n",
            "2\n",
            "3\n",
            "4\n",
            "5\n",
            "6\n",
            "7\n"
          ]
        }
      ]
    },
    {
      "cell_type": "code",
      "source": [
        "squares = ['red', 'yellow', 'green', 'purple', 'blue']\n",
        "\n",
        "for i in range(0, 5):\n",
        "    print(\"Before square \", i, 'is',  squares[i])\n",
        "    squares[i] = 'white'\n",
        "    print(\"After square \", i, 'is',  squares[i])"
      ],
      "metadata": {
        "colab": {
          "base_uri": "https://localhost:8080/"
        },
        "id": "MsehVJRNHzEF",
        "outputId": "cf897a3a-dd3c-4f78-819d-470e18616730"
      },
      "execution_count": null,
      "outputs": [
        {
          "output_type": "stream",
          "name": "stdout",
          "text": [
            "Before square  0 is red\n",
            "After square  0 is white\n",
            "Before square  1 is yellow\n",
            "After square  1 is white\n",
            "Before square  2 is green\n",
            "After square  2 is white\n",
            "Before square  3 is purple\n",
            "After square  3 is white\n",
            "Before square  4 is blue\n",
            "After square  4 is white\n"
          ]
        }
      ]
    },
    {
      "cell_type": "code",
      "source": [
        "squares=['red', 'yellow', 'green', 'purple', 'blue']\n",
        "\n",
        "for i, square in enumerate(squares):\n",
        "    print(i, square)"
      ],
      "metadata": {
        "colab": {
          "base_uri": "https://localhost:8080/"
        },
        "id": "SRIJtdESIbGs",
        "outputId": "02b6bf49-7743-449c-a71c-a7afea1d65bc"
      },
      "execution_count": null,
      "outputs": [
        {
          "output_type": "stream",
          "name": "stdout",
          "text": [
            "0 red\n",
            "1 yellow\n",
            "2 green\n",
            "3 purple\n",
            "4 blue\n"
          ]
        }
      ]
    },
    {
      "cell_type": "code",
      "source": [
        "dates = [1982, 1980, 1973, 2000]\n",
        "\n",
        "i = 0\n",
        "year = 0\n",
        "\n",
        "while(year != 1973):\n",
        "    year = dates[i]\n",
        "    i = i + 1\n",
        "    print(year)\n",
        "\n",
        "print(\"It took \", i ,\"repetitions to get out of loop.\")"
      ],
      "metadata": {
        "colab": {
          "base_uri": "https://localhost:8080/"
        },
        "id": "0Gt6onogIs9o",
        "outputId": "8dedc93f-a309-433a-82d2-4426da4dcdac"
      },
      "execution_count": null,
      "outputs": [
        {
          "output_type": "stream",
          "name": "stdout",
          "text": [
            "1982\n",
            "1980\n",
            "1973\n",
            "It took  3 repetitions to get out of loop.\n"
          ]
        }
      ]
    },
    {
      "cell_type": "code",
      "source": [
        "for i in range(1, 11):\n",
        "    for j in range(1, 11):\n",
        "        print(i * j, end=\" \")\n",
        "    print('')"
      ],
      "metadata": {
        "colab": {
          "base_uri": "https://localhost:8080/"
        },
        "id": "R5mIeaYdJEKO",
        "outputId": "09f9a49f-1428-4056-84ef-a07f91b1cafa"
      },
      "execution_count": null,
      "outputs": [
        {
          "output_type": "stream",
          "name": "stdout",
          "text": [
            "1 2 3 4 5 6 7 8 9 10 \n",
            "2 4 6 8 10 12 14 16 18 20 \n",
            "3 6 9 12 15 18 21 24 27 30 \n",
            "4 8 12 16 20 24 28 32 36 40 \n",
            "5 10 15 20 25 30 35 40 45 50 \n",
            "6 12 18 24 30 36 42 48 54 60 \n",
            "7 14 21 28 35 42 49 56 63 70 \n",
            "8 16 24 32 40 48 56 64 72 80 \n",
            "9 18 27 36 45 54 63 72 81 90 \n",
            "10 20 30 40 50 60 70 80 90 100 \n"
          ]
        }
      ]
    },
    {
      "cell_type": "code",
      "source": [
        "for i in range(1, 11):\n",
        "    for j in range(1, 11):\n",
        "        print(i * j, end=' ')\n",
        "    print()"
      ],
      "metadata": {
        "colab": {
          "base_uri": "https://localhost:8080/"
        },
        "id": "lvgk6ghSKZlf",
        "outputId": "d68d9d73-2009-49f1-b952-2c62d5645a59"
      },
      "execution_count": null,
      "outputs": [
        {
          "output_type": "stream",
          "name": "stdout",
          "text": [
            "1 2 3 4 5 6 7 8 9 10 \n",
            "2 4 6 8 10 12 14 16 18 20 \n",
            "3 6 9 12 15 18 21 24 27 30 \n",
            "4 8 12 16 20 24 28 32 36 40 \n",
            "5 10 15 20 25 30 35 40 45 50 \n",
            "6 12 18 24 30 36 42 48 54 60 \n",
            "7 14 21 28 35 42 49 56 63 70 \n",
            "8 16 24 32 40 48 56 64 72 80 \n",
            "9 18 27 36 45 54 63 72 81 90 \n",
            "10 20 30 40 50 60 70 80 90 100 \n"
          ]
        }
      ]
    },
    {
      "cell_type": "code",
      "source": [
        "names = ['hoo', 'lee', 'shet']\n",
        "for name in names:\n",
        "    count = 0\n",
        "    while count < 5:\n",
        "        print(name,end=' ')\n",
        "        count = count + 1\n",
        "    print()"
      ],
      "metadata": {
        "colab": {
          "base_uri": "https://localhost:8080/"
        },
        "id": "YK7I2A6nKpUj",
        "outputId": "9d90f430-ad17-4720-a758-72d2a790ab9d"
      },
      "execution_count": null,
      "outputs": [
        {
          "output_type": "stream",
          "name": "stdout",
          "text": [
            "hoo hoo hoo hoo hoo \n",
            "lee lee lee lee lee \n",
            "shet shet shet shet shet \n"
          ]
        }
      ]
    },
    {
      "cell_type": "code",
      "source": [
        "for i in range(4):\n",
        "    for j in range(4):\n",
        "        if j == 1:\n",
        "            break\n",
        "        print(i, j)"
      ],
      "metadata": {
        "colab": {
          "base_uri": "https://localhost:8080/"
        },
        "id": "l0hfhqJ9LWlD",
        "outputId": "3ce826e7-0861-490e-e85a-04f438931a73"
      },
      "execution_count": null,
      "outputs": [
        {
          "output_type": "stream",
          "name": "stdout",
          "text": [
            "0 0\n",
            "1 0\n",
            "2 0\n",
            "3 0\n"
          ]
        }
      ]
    },
    {
      "cell_type": "code",
      "source": [
        "first = [2, 4, 6]\n",
        "second = [2, 4, 6]\n",
        "for i in first:\n",
        "    for j in second:\n",
        "        if i == j:\n",
        "            continue\n",
        "        print(i, '*', j, '=', i * j)"
      ],
      "metadata": {
        "colab": {
          "base_uri": "https://localhost:8080/"
        },
        "id": "8WwEh28tL5nr",
        "outputId": "70733027-2119-4a4d-aa8c-c5c669ab59dc"
      },
      "execution_count": null,
      "outputs": [
        {
          "output_type": "stream",
          "name": "stdout",
          "text": [
            "2 * 4 = 8\n",
            "2 * 6 = 12\n",
            "4 * 2 = 8\n",
            "4 * 6 = 24\n",
            "6 * 2 = 12\n",
            "6 * 4 = 24\n"
          ]
        }
      ]
    },
    {
      "cell_type": "code",
      "source": [
        "i = 1\n",
        "while i <=5:\n",
        "    j = 1\n",
        "    while j <= 10:\n",
        "        print(i * j, end=' ')\n",
        "        j = j + 1\n",
        "    print()\n",
        "    i = i + 1"
      ],
      "metadata": {
        "colab": {
          "base_uri": "https://localhost:8080/"
        },
        "id": "iJqXPwnZMa4i",
        "outputId": "89e3ba51-4a1f-4999-fa93-20e32cdb7964"
      },
      "execution_count": null,
      "outputs": [
        {
          "output_type": "stream",
          "name": "stdout",
          "text": [
            "1 2 3 4 5 6 7 8 9 10 \n",
            "2 4 6 8 10 12 14 16 18 20 \n",
            "3 6 9 12 15 18 21 24 27 30 \n",
            "4 8 12 16 20 24 28 32 36 40 \n",
            "5 10 15 20 25 30 35 40 45 50 \n"
          ]
        }
      ]
    },
    {
      "cell_type": "code",
      "source": [
        "print('show perfect number from 1 to 100')\n",
        "n= 2\n",
        "while n<= 100:\n",
        "    x_sum = 0\n",
        "    for i in range(1, n):\n",
        "        if n % i == 0:\n",
        "            x_sum += i\n",
        "    if x_sum == n:\n",
        "        print('perfect number', n)\n",
        "    n += 1"
      ],
      "metadata": {
        "colab": {
          "base_uri": "https://localhost:8080/"
        },
        "id": "KxLWAmFDMuHD",
        "outputId": "82d1a27b-cd08-48a8-cf2e-f3154012bd5c"
      },
      "execution_count": null,
      "outputs": [
        {
          "output_type": "stream",
          "name": "stdout",
          "text": [
            "show perfect number from 1 to 100\n",
            "perfect number 6\n",
            "perfect number 28\n"
          ]
        }
      ]
    },
    {
      "cell_type": "code",
      "source": [
        "n = int(input(\"jumlah baris : \"))\n",
        "for i in range(n):\n",
        "  print(' ' * (n - i), end=' ')\n",
        "  for j in range(i+1):\n",
        "    print('*', end=' ')\n",
        "  print()"
      ],
      "metadata": {
        "colab": {
          "base_uri": "https://localhost:8080/"
        },
        "id": "KHB_Z9CjNcED",
        "outputId": "bcbfe62b-48f6-48b4-9342-05037b3c88c1"
      },
      "execution_count": null,
      "outputs": [
        {
          "output_type": "stream",
          "name": "stdout",
          "text": [
            "jumlah baris : 6\n",
            "       * \n",
            "      * * \n",
            "     * * * \n",
            "    * * * * \n",
            "   * * * * * \n",
            "  * * * * * * \n"
          ]
        }
      ]
    },
    {
      "cell_type": "code",
      "source": [
        "n = int(input(\"Jumlah baris : \"))\n",
        "for i in range(n):\n",
        "  print(' ' * (n - i), end=' ')\n",
        "  x = 1\n",
        "  for j in range(i+1):\n",
        "    print(x, end=' ')\n",
        "    x = x * (i - j) // (j + 1)\n",
        "  print()"
      ],
      "metadata": {
        "id": "hrmr4tDob0P7",
        "colab": {
          "base_uri": "https://localhost:8080/"
        },
        "outputId": "0f9be520-d442-4b63-a98d-82376ca9d5a4"
      },
      "execution_count": null,
      "outputs": [
        {
          "output_type": "stream",
          "name": "stdout",
          "text": [
            "Jumlah baris : 3\n",
            "    1 \n",
            "   1 1 \n",
            "  1 2 1 \n"
          ]
        }
      ]
    },
    {
      "cell_type": "code",
      "source": [],
      "metadata": {
        "colab": {
          "base_uri": "https://localhost:8080/"
        },
        "id": "F_4berXYYOEj",
        "outputId": "b5b9239a-d91f-43ad-e622-7b528b7af54f"
      },
      "execution_count": null,
      "outputs": [
        {
          "output_type": "stream",
          "name": "stdout",
          "text": [
            "Masukkan nomor baris: 23\n",
            "Jumlah angka pada baris ke- 23 adalah: 8388608.0\n"
          ]
        }
      ]
    },
    {
      "cell_type": "code",
      "source": [
        "def kombinasi(n, k):\n",
        "  if k == 0 or k == n:\n",
        "    return 1\n",
        "  else:\n",
        "    return kombinasi(n-1, k-1) + kombinasi(n-1, k)\n",
        "\n",
        "def jumlah_baris_pascal(n):\n",
        "  jumlah = 0\n",
        "  for k in range(n+1):\n",
        "    jumlah += kombinasi(n, k)\n",
        "  return jumlah\n",
        "\n",
        "# Input dari pengguna\n",
        "n = int(input(\"Masukkan nomor baris: \"))\n",
        "\n",
        "# Hitung dan tampilkan hasil\n",
        "hasil = jumlah_baris_pascal(n)\n",
        "print(\"Jumlah angka pada baris ke-\", n, \"adalah:\", hasil)"
      ],
      "metadata": {
        "colab": {
          "base_uri": "https://localhost:8080/"
        },
        "id": "Vhr9uuQKbSFl",
        "outputId": "56e6cce7-7fef-4efc-eb58-f0503cb28660"
      },
      "execution_count": null,
      "outputs": [
        {
          "output_type": "stream",
          "name": "stdout",
          "text": [
            "Masukkan nomor baris: 2\n",
            "Jumlah angka pada baris ke- 2 adalah: 4\n"
          ]
        }
      ]
    },
    {
      "cell_type": "code",
      "source": [
        "jumlah_baris = int(input(\"Masukkan jumlah baris: \"))\n",
        "\n",
        "segitiga_pascal = []\n",
        "for i in range(jumlah_baris):\n",
        "    baris = []\n",
        "    for j in range(i + 1):\n",
        "        if j == 0 or j == i:\n",
        "            baris.append(1)\n",
        "        else:\n",
        "            baris.append(segitiga_pascal[i - 1][j - 1] + segitiga_pascal[i - 1][j])\n",
        "    segitiga_pascal.append(baris)\n",
        "\n",
        "if jumlah_baris > 0:\n",
        "    print(\"Segitiga Pascal:\")\n",
        "    last_angka_baris = segitiga_pascal[jumlah_baris - 1]\n",
        "    print(\"Angka dalam sebaris segitiga pascal \", end=' ')\n",
        "    for angka in last_angka_baris:\n",
        "        print(angka, end=' ')\n",
        "    print()\n",
        "    jumlah_angka = 0\n",
        "    for angka in last_angka_baris:\n",
        "        jumlah_angka += angka\n",
        "    print(\"Jumlah angka dalam baris terakhir:\", jumlah_angka)\n",
        "else:\n",
        "    print(\"Jumlah baris harus lebih besar dari 0.\")"
      ],
      "metadata": {
        "colab": {
          "base_uri": "https://localhost:8080/"
        },
        "id": "LwSkHUdEzqV8",
        "outputId": "572ace1d-218b-4991-f8e9-35a35619305f"
      },
      "execution_count": null,
      "outputs": [
        {
          "output_type": "stream",
          "name": "stdout",
          "text": [
            "Masukkan jumlah baris: 6\n",
            "Segitiga Pascal:\n",
            "Angka dalam sebaris segitiga pascal  1 5 10 10 5 1 \n",
            "Jumlah angka dalam baris terakhir: 32\n"
          ]
        }
      ]
    },
    {
      "cell_type": "code",
      "source": [
        "def pascal_triangle_row(n):\n",
        "    row = [1]\n",
        "    for k in range(1, n):\n",
        "        row.append(row[k - 1] * (n - k) // k)\n",
        "    return row\n",
        "\n",
        "def sum_pascal_row(n):\n",
        "    row = pascal_triangle_row(n)\n",
        "    return sum(row)\n",
        "\n",
        "# Example usage\n",
        "n = int(input(\"Masukkan angka: \"))\n",
        "row = pascal_triangle_row(n)\n",
        "sum_row = sum_pascal_row(n)\n",
        "\n",
        "print(f\"Baris ke-{n} dari segitiga Pascal adalah: {row}\")\n",
        "print(f\"Jumlah angka dalam baris tersebut: {sum_row}\")\n"
      ],
      "metadata": {
        "colab": {
          "base_uri": "https://localhost:8080/"
        },
        "id": "pi8mqpivcE5X",
        "outputId": "a361b8a9-4477-481b-e843-790e4f1c336b"
      },
      "execution_count": null,
      "outputs": [
        {
          "output_type": "stream",
          "name": "stdout",
          "text": [
            "Masukkan angka: 2\n",
            "Baris ke-2 dari segitiga Pascal adalah: [1, 1]\n",
            "Jumlah angka dalam baris tersebut: 2\n"
          ]
        }
      ]
    },
    {
      "cell_type": "markdown",
      "source": [],
      "metadata": {
        "id": "vxnCvf9RmnHi"
      }
    },
    {
      "cell_type": "code",
      "source": [],
      "metadata": {
        "id": "vTcN02V_zi7S"
      },
      "execution_count": null,
      "outputs": []
    },
    {
      "cell_type": "code",
      "source": [
        "dates = [1982, 1980, 1973, 2000]\n",
        "\n",
        "i = 0\n",
        "year = 0\n",
        "\n",
        "while(year != 1973):\n",
        "    year = dates[i]\n",
        "    i = i + 1\n",
        "    print(year)\n",
        "\n",
        "print(\"It took \", i ,\"repetitions to get out of loop.\")"
      ],
      "metadata": {
        "colab": {
          "base_uri": "https://localhost:8080/"
        },
        "id": "kR-JAgT-gdBy",
        "outputId": "38f2df24-86aa-4c4c-ee6c-49cd70de0eb0"
      },
      "execution_count": null,
      "outputs": [
        {
          "output_type": "stream",
          "name": "stdout",
          "text": [
            "1982\n",
            "1980\n",
            "1973\n",
            "It took  3 repetitions to get out of loop.\n"
          ]
        }
      ]
    },
    {
      "cell_type": "code",
      "source": [
        "for i in range(4):\n",
        "    for j in range(4):\n",
        "        if j == i:\n",
        "            break\n",
        "        print(i, j)"
      ],
      "metadata": {
        "id": "unc5WmGkmoLq",
        "colab": {
          "base_uri": "https://localhost:8080/"
        },
        "outputId": "fb14081f-16e6-4902-8ffa-3a8e91648247"
      },
      "execution_count": null,
      "outputs": [
        {
          "output_type": "stream",
          "name": "stdout",
          "text": [
            "1 0\n",
            "2 0\n",
            "2 1\n",
            "3 0\n",
            "3 1\n",
            "3 2\n"
          ]
        }
      ]
    },
    {
      "cell_type": "code",
      "source": [
        "names = ['Daffa', 'Obama', 'Drake']\n",
        "for name in names:\n",
        "    count = 0\n",
        "    while count < 5:\n",
        "        print(name, end=' ')\n",
        "        count = count + 1\n",
        "    print()"
      ],
      "metadata": {
        "colab": {
          "base_uri": "https://localhost:8080/"
        },
        "id": "soTu9IbZsce9",
        "outputId": "1118d1d4-d61a-43b2-db4e-a33e37a8e402"
      },
      "execution_count": null,
      "outputs": [
        {
          "output_type": "stream",
          "name": "stdout",
          "text": [
            "Daffa Daffa Daffa Daffa Daffa \n",
            "Obama Obama Obama Obama Obama \n",
            "Drake Drake Drake Drake Drake \n"
          ]
        }
      ]
    },
    {
      "cell_type": "code",
      "source": [
        "for i in range(1, 11):\n",
        "    # nested loop\n",
        "    # to iterate from 1 to 10\n",
        "    for j in range(1, 11):\n",
        "        # print multiplication\n",
        "        print(i * j, end=' ')\n",
        "    print()\n"
      ],
      "metadata": {
        "colab": {
          "base_uri": "https://localhost:8080/"
        },
        "id": "Iy0cMyyNs0U3",
        "outputId": "5aa0d415-721c-4745-83a5-3d2a79f0a746"
      },
      "execution_count": null,
      "outputs": [
        {
          "output_type": "stream",
          "name": "stdout",
          "text": [
            "1 2 3 4 5 6 7 8 9 10 \n",
            "2 4 6 8 10 12 14 16 18 20 \n",
            "3 6 9 12 15 18 21 24 27 30 \n",
            "4 8 12 16 20 24 28 32 36 40 \n",
            "5 10 15 20 25 30 35 40 45 50 \n",
            "6 12 18 24 30 36 42 48 54 60 \n",
            "7 14 21 28 35 42 49 56 63 70 \n",
            "8 16 24 32 40 48 56 64 72 80 \n",
            "9 18 27 36 45 54 63 72 81 90 \n",
            "10 20 30 40 50 60 70 80 90 100 \n"
          ]
        }
      ]
    },
    {
      "cell_type": "code",
      "source": [],
      "metadata": {
        "id": "nddn3Uzes_sn"
      },
      "execution_count": null,
      "outputs": []
    }
  ]
}